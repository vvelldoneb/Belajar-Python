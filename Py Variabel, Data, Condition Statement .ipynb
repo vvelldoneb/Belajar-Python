{
  "cells": [
    {
      "cell_type": "markdown",
      "source": [
        "## Variabel"
      ],
      "metadata": {
        "id": "aZX82Eq-jlrS"
      }
    },
    {
      "cell_type": "code",
      "source": [
        "print(\"hello world\")"
      ],
      "metadata": {
        "id": "BJCw6M1jjW-H",
        "outputId": "bb88668d-1a7f-4136-9876-7dd7b492446f",
        "colab": {
          "base_uri": "https://localhost:8080/"
        }
      },
      "execution_count": 3,
      "outputs": [
        {
          "output_type": "stream",
          "name": "stdout",
          "text": [
            "hello world\n"
          ]
        }
      ]
    },
    {
      "cell_type": "code",
      "source": [
        "nama = \"Ayas\"\n",
        "print(\"Perkenalkan nama saya\", nama)"
      ],
      "metadata": {
        "id": "s4ZOPZIUkuut",
        "outputId": "d6bfdca7-fdf7-46ce-bf86-361c94fd4d01",
        "colab": {
          "base_uri": "https://localhost:8080/"
        }
      },
      "execution_count": 4,
      "outputs": [
        {
          "output_type": "stream",
          "name": "stdout",
          "text": [
            "Perkenalkan nama saya Ayas\n"
          ]
        }
      ]
    },
    {
      "cell_type": "markdown",
      "source": [
        "## Operator"
      ],
      "metadata": {
        "id": "iDLT08qLmmY-"
      }
    },
    {
      "cell_type": "code",
      "source": [
        "# int : integer (Bilangan bulat (+/-))\n",
        "# str : string (text -> abcsdf123)\n",
        "# float : decimal (. pakai titik)\n",
        "# Array (kumpulan data atau variabel):\n",
        "  # list ---> variabel = [\"data1\",\"data2\"] ---> ada index dari 0, panjang data dimulai dari 1, tidak permanen, bisa diubah.\n",
        "  # tuples ---> kurung tutup tapi sama kaya list dan datanya permanen ---> cara rubah a[1]\n",
        "  # dictionary --->"
      ],
      "metadata": {
        "id": "ERpuFvrRmqQ_"
      },
      "execution_count": null,
      "outputs": []
    },
    {
      "cell_type": "markdown",
      "source": [],
      "metadata": {
        "id": "qXdasU_YxoIq"
      }
    },
    {
      "cell_type": "code",
      "source": [
        "buah = [\"apel\", \"pisang\", \"anggur\", \"durian\", \"mangga\"]\n",
        "buah[1:]\n",
        "buah[:4]\n",
        "buah.append(\"kiwi\")\n",
        "buah\n",
        "buah[3] = \"semangka\"\n",
        "buah"
      ],
      "metadata": {
        "id": "NMaeW1OEu7Fz",
        "outputId": "4a6000c2-64f0-4da3-ec03-85d82231652c",
        "colab": {
          "base_uri": "https://localhost:8080/"
        }
      },
      "execution_count": 22,
      "outputs": [
        {
          "output_type": "execute_result",
          "data": {
            "text/plain": [
              "['apel', 'pisang', 'anggur', 'semangka', 'mangga', 'kiwi']"
            ]
          },
          "metadata": {},
          "execution_count": 22
        }
      ]
    },
    {
      "cell_type": "code",
      "source": [
        "buah = (\"apel\", \"pisang\", \"anggur\", \"durian\", \"mangga\")\n",
        "list_buah = list(buah)\n",
        "list_buah\n",
        "list_buah[4]= (\"semangka\")\n",
        "tuple_buah = tuple(list_buah)\n",
        "tuple_buah"
      ],
      "metadata": {
        "id": "ZJRlVBecxzPk",
        "outputId": "2fba5f33-4674-43ae-c3ae-5a1f8ad82a0b",
        "colab": {
          "base_uri": "https://localhost:8080/"
        }
      },
      "execution_count": 26,
      "outputs": [
        {
          "output_type": "execute_result",
          "data": {
            "text/plain": [
              "('apel', 'pisang', 'anggur', 'durian', 'semangka')"
            ]
          },
          "metadata": {},
          "execution_count": 26
        }
      ]
    },
    {
      "cell_type": "code",
      "source": [
        "extra = (\"basket\",\"volley\", \"badminton\", \"futsal\", \"panahan\", \"senam\")\n",
        "list_extra = list(extra)\n",
        "list_extra\n",
        "list_extra[4]= \"Renang\"\n",
        "list_extra.append(\"Berkuda\")\n",
        "list_extra.append(\"Anggar\")\n",
        "list_extra\n",
        "tuple_extra = tuple(list_extra)\n",
        "tuple_extra\n"
      ],
      "metadata": {
        "id": "E-v8ST38yrFZ",
        "outputId": "373d9897-94d6-4989-8158-a14c3e8dbf6e",
        "colab": {
          "base_uri": "https://localhost:8080/"
        }
      },
      "execution_count": 39,
      "outputs": [
        {
          "output_type": "execute_result",
          "data": {
            "text/plain": [
              "('basket',\n",
              " 'volley',\n",
              " 'badminton',\n",
              " 'futsal',\n",
              " 'Renang',\n",
              " 'senam',\n",
              " 'Berkuda',\n",
              " 'Anggar')"
            ]
          },
          "metadata": {},
          "execution_count": 39
        }
      ]
    },
    {
      "cell_type": "markdown",
      "source": [
        "## Dictionary"
      ],
      "metadata": {
        "id": "3zrXzxCE2pep"
      }
    },
    {
      "cell_type": "code",
      "source": [
        "buku_telepon = {\n",
        "    'zalfa' : '08368179112',\n",
        "    'isyi' : '08276172191',\n",
        "    'arga' : '08398239201',\n",
        "    }\n",
        "print(buku_telepon)\n",
        "print('nomor telepon arga : ', buku_telepon['arga'])\n",
        "buku_telepon['isyi'] ='08516567388'\n",
        "print(\"Buku telepon update: \", buku_telepon)\n",
        "print(\"list anggota buku telepon\", list(buku_telepon.keys()))\n",
        "print(\"list nomor buku telepon\", list(buku_telepon.values()))"
      ],
      "metadata": {
        "id": "SgsBst0C2pHV"
      },
      "execution_count": null,
      "outputs": []
    },
    {
      "cell_type": "code",
      "source": [
        "x = 9\n",
        "y = 3\n",
        "\n",
        "print(\"x+y\", x+y)\n",
        "print(\"x-y\", x-y)\n",
        "print(\"x*y\", x*y)\n",
        "print(\"x/y\", x/y)"
      ],
      "metadata": {
        "id": "h67LX8kDoyyc",
        "outputId": "4081f847-0d41-44f3-e04d-6d943e031c55",
        "colab": {
          "base_uri": "https://localhost:8080/"
        }
      },
      "execution_count": 7,
      "outputs": [
        {
          "output_type": "stream",
          "name": "stdout",
          "text": [
            "x+y 12\n",
            "x-y 6\n",
            "x*y 27\n",
            "x/y 3.0\n"
          ]
        }
      ]
    },
    {
      "cell_type": "markdown",
      "source": [
        "## Example"
      ],
      "metadata": {
        "id": "pXCYFT9wuTdg"
      }
    },
    {
      "cell_type": "code",
      "source": [
        "nilai = float(input (\"Masukan Nilai:\"))\n",
        "\n",
        "if  nilai >= 91 and nilai <=100:\n",
        "  print(\"Grade A\")\n",
        "\n",
        "elif nilai >= 81 and nilai<=91:\n",
        "  print(\"Grade B\")\n",
        "\n",
        "elif nilai >= 75 and nilai<=81:\n",
        "  print(\"Grade C\")\n",
        "\n",
        "elif nilai >= 0 and nilai<=75:\n",
        "  print(\"Grade D\")\n",
        "\n",
        "else:\n",
        "  print(\"undefined\")"
      ],
      "metadata": {
        "id": "RZtIC0Gwrjze",
        "outputId": "9c9a48b1-b2a6-4288-a5b1-a96e8863a6b4",
        "colab": {
          "base_uri": "https://localhost:8080/",
          "height": 356
        }
      },
      "execution_count": 55,
      "outputs": [
        {
          "output_type": "error",
          "ename": "KeyboardInterrupt",
          "evalue": "Interrupted by user",
          "traceback": [
            "\u001b[0;31m---------------------------------------------------------------------------\u001b[0m",
            "\u001b[0;31mKeyboardInterrupt\u001b[0m                         Traceback (most recent call last)",
            "\u001b[0;32m<ipython-input-55-12acb24b6bdd>\u001b[0m in \u001b[0;36m<cell line: 1>\u001b[0;34m()\u001b[0m\n\u001b[0;32m----> 1\u001b[0;31m \u001b[0mnilai\u001b[0m \u001b[0;34m=\u001b[0m \u001b[0mfloat\u001b[0m\u001b[0;34m(\u001b[0m\u001b[0minput\u001b[0m \u001b[0;34m(\u001b[0m\u001b[0;34m\"Masukan Nilai:\"\u001b[0m\u001b[0;34m)\u001b[0m\u001b[0;34m)\u001b[0m\u001b[0;34m\u001b[0m\u001b[0;34m\u001b[0m\u001b[0m\n\u001b[0m\u001b[1;32m      2\u001b[0m \u001b[0;34m\u001b[0m\u001b[0m\n\u001b[1;32m      3\u001b[0m \u001b[0;32mif\u001b[0m  \u001b[0mnilai\u001b[0m \u001b[0;34m>=\u001b[0m \u001b[0;36m91\u001b[0m \u001b[0;32mand\u001b[0m \u001b[0mnilai\u001b[0m \u001b[0;34m<=\u001b[0m\u001b[0;36m100\u001b[0m\u001b[0;34m:\u001b[0m\u001b[0;34m\u001b[0m\u001b[0;34m\u001b[0m\u001b[0m\n\u001b[1;32m      4\u001b[0m   \u001b[0mprint\u001b[0m\u001b[0;34m(\u001b[0m\u001b[0;34m\"Grade A\"\u001b[0m\u001b[0;34m)\u001b[0m\u001b[0;34m\u001b[0m\u001b[0;34m\u001b[0m\u001b[0m\n\u001b[1;32m      5\u001b[0m \u001b[0;34m\u001b[0m\u001b[0m\n",
            "\u001b[0;32m/usr/local/lib/python3.10/dist-packages/ipykernel/kernelbase.py\u001b[0m in \u001b[0;36mraw_input\u001b[0;34m(self, prompt)\u001b[0m\n\u001b[1;32m    849\u001b[0m                 \u001b[0;34m\"raw_input was called, but this frontend does not support input requests.\"\u001b[0m\u001b[0;34m\u001b[0m\u001b[0;34m\u001b[0m\u001b[0m\n\u001b[1;32m    850\u001b[0m             )\n\u001b[0;32m--> 851\u001b[0;31m         return self._input_request(str(prompt),\n\u001b[0m\u001b[1;32m    852\u001b[0m             \u001b[0mself\u001b[0m\u001b[0;34m.\u001b[0m\u001b[0m_parent_ident\u001b[0m\u001b[0;34m,\u001b[0m\u001b[0;34m\u001b[0m\u001b[0;34m\u001b[0m\u001b[0m\n\u001b[1;32m    853\u001b[0m             \u001b[0mself\u001b[0m\u001b[0;34m.\u001b[0m\u001b[0m_parent_header\u001b[0m\u001b[0;34m,\u001b[0m\u001b[0;34m\u001b[0m\u001b[0;34m\u001b[0m\u001b[0m\n",
            "\u001b[0;32m/usr/local/lib/python3.10/dist-packages/ipykernel/kernelbase.py\u001b[0m in \u001b[0;36m_input_request\u001b[0;34m(self, prompt, ident, parent, password)\u001b[0m\n\u001b[1;32m    893\u001b[0m             \u001b[0;32mexcept\u001b[0m \u001b[0mKeyboardInterrupt\u001b[0m\u001b[0;34m:\u001b[0m\u001b[0;34m\u001b[0m\u001b[0;34m\u001b[0m\u001b[0m\n\u001b[1;32m    894\u001b[0m                 \u001b[0;31m# re-raise KeyboardInterrupt, to truncate traceback\u001b[0m\u001b[0;34m\u001b[0m\u001b[0;34m\u001b[0m\u001b[0m\n\u001b[0;32m--> 895\u001b[0;31m                 \u001b[0;32mraise\u001b[0m \u001b[0mKeyboardInterrupt\u001b[0m\u001b[0;34m(\u001b[0m\u001b[0;34m\"Interrupted by user\"\u001b[0m\u001b[0;34m)\u001b[0m \u001b[0;32mfrom\u001b[0m \u001b[0;32mNone\u001b[0m\u001b[0;34m\u001b[0m\u001b[0;34m\u001b[0m\u001b[0m\n\u001b[0m\u001b[1;32m    896\u001b[0m             \u001b[0;32mexcept\u001b[0m \u001b[0mException\u001b[0m \u001b[0;32mas\u001b[0m \u001b[0me\u001b[0m\u001b[0;34m:\u001b[0m\u001b[0;34m\u001b[0m\u001b[0;34m\u001b[0m\u001b[0m\n\u001b[1;32m    897\u001b[0m                 \u001b[0mself\u001b[0m\u001b[0;34m.\u001b[0m\u001b[0mlog\u001b[0m\u001b[0;34m.\u001b[0m\u001b[0mwarning\u001b[0m\u001b[0;34m(\u001b[0m\u001b[0;34m\"Invalid Message:\"\u001b[0m\u001b[0;34m,\u001b[0m \u001b[0mexc_info\u001b[0m\u001b[0;34m=\u001b[0m\u001b[0;32mTrue\u001b[0m\u001b[0;34m)\u001b[0m\u001b[0;34m\u001b[0m\u001b[0;34m\u001b[0m\u001b[0m\n",
            "\u001b[0;31mKeyboardInterrupt\u001b[0m: Interrupted by user"
          ]
        }
      ]
    }
  ],
  "metadata": {
    "colab": {
      "name": "Welcome To Colab",
      "provenance": []
    },
    "kernelspec": {
      "display_name": "Python 3",
      "name": "python3"
    }
  },
  "nbformat": 4,
  "nbformat_minor": 0
}